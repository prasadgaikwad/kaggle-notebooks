{
 "cells": [
  {
   "cell_type": "code",
   "execution_count": 1,
   "id": "76fbeb60",
   "metadata": {
    "_cell_guid": "5979beb3-291c-4004-a9b7-129731473ae7",
    "_uuid": "8780a7d9-0250-4c0d-9b94-0c2e5ebdb2e7",
    "collapsed": false,
    "execution": {
     "iopub.execute_input": "2025-04-21T04:02:17.492939Z",
     "iopub.status.busy": "2025-04-21T04:02:17.492545Z",
     "iopub.status.idle": "2025-04-21T04:02:33.569661Z",
     "shell.execute_reply": "2025-04-21T04:02:33.568273Z"
    },
    "jupyter": {
     "outputs_hidden": false
    },
    "papermill": {
     "duration": 16.083918,
     "end_time": "2025-04-21T04:02:33.572001",
     "exception": false,
     "start_time": "2025-04-21T04:02:17.488083",
     "status": "completed"
    },
    "tags": []
   },
   "outputs": [
    {
     "name": "stdout",
     "output_type": "stream",
     "text": [
      "\u001b[2K   \u001b[90m━━━━━━━━━━━━━━━━━━━━━━━━━━━━━━━━━━━━━━━━\u001b[0m \u001b[32m144.7/144.7 kB\u001b[0m \u001b[31m6.1 MB/s\u001b[0m eta \u001b[36m0:00:00\u001b[0m\r\n",
      "\u001b[2K   \u001b[90m━━━━━━━━━━━━━━━━━━━━━━━━━━━━━━━━━━━━━━━━\u001b[0m \u001b[32m100.9/100.9 kB\u001b[0m \u001b[31m5.1 MB/s\u001b[0m eta \u001b[36m0:00:00\u001b[0m\r\n",
      "\u001b[?25h\u001b[31mERROR: pip's dependency resolver does not currently take into account all the packages that are installed. This behaviour is the source of the following dependency conflicts.\r\n",
      "jupyterlab-lsp 3.10.2 requires jupyterlab<4.0.0a0,>=3.1.0, which is not installed.\u001b[0m\u001b[31m\r\n",
      "\u001b[0mRequirement already satisfied: beautifulsoup4 in /usr/local/lib/python3.11/dist-packages (4.13.3)\r\n",
      "Requirement already satisfied: soupsieve>1.2 in /usr/local/lib/python3.11/dist-packages (from beautifulsoup4) (2.6)\r\n",
      "Requirement already satisfied: typing-extensions>=4.0.0 in /usr/local/lib/python3.11/dist-packages (from beautifulsoup4) (4.13.1)\r\n",
      "Requirement already satisfied: requests in /usr/local/lib/python3.11/dist-packages (2.32.3)\r\n",
      "Requirement already satisfied: charset-normalizer<4,>=2 in /usr/local/lib/python3.11/dist-packages (from requests) (3.4.1)\r\n",
      "Requirement already satisfied: idna<4,>=2.5 in /usr/local/lib/python3.11/dist-packages (from requests) (3.10)\r\n",
      "Requirement already satisfied: urllib3<3,>=1.21.1 in /usr/local/lib/python3.11/dist-packages (from requests) (2.3.0)\r\n",
      "Requirement already satisfied: certifi>=2017.4.17 in /usr/local/lib/python3.11/dist-packages (from requests) (2025.1.31)\r\n"
     ]
    }
   ],
   "source": [
    "!pip uninstall -qqy jupyterlab  # Remove unused conflicting packages\n",
    "!pip install -U -q \"google-genai==1.7.0\"\n",
    "!pip install beautifulsoup4\n",
    "!pip install requests"
   ]
  },
  {
   "cell_type": "code",
   "execution_count": 2,
   "id": "d220c81d",
   "metadata": {
    "_cell_guid": "f770823f-1730-441e-abca-3656a5127d44",
    "_uuid": "db3b8a42-b1cc-49ce-b089-e8b31b1691fe",
    "collapsed": false,
    "execution": {
     "iopub.execute_input": "2025-04-21T04:02:33.579857Z",
     "iopub.status.busy": "2025-04-21T04:02:33.579524Z",
     "iopub.status.idle": "2025-04-21T04:02:34.954824Z",
     "shell.execute_reply": "2025-04-21T04:02:34.953869Z"
    },
    "jupyter": {
     "outputs_hidden": false
    },
    "papermill": {
     "duration": 1.380934,
     "end_time": "2025-04-21T04:02:34.956286",
     "exception": false,
     "start_time": "2025-04-21T04:02:33.575352",
     "status": "completed"
    },
    "tags": []
   },
   "outputs": [
    {
     "data": {
      "text/plain": [
       "'1.7.0'"
      ]
     },
     "execution_count": 2,
     "metadata": {},
     "output_type": "execute_result"
    }
   ],
   "source": [
    "from google import genai\n",
    "from google.genai import types\n",
    "\n",
    "genai.__version__"
   ]
  },
  {
   "cell_type": "markdown",
   "id": "005772df",
   "metadata": {
    "_cell_guid": "aba1261a-e80f-4058-b323-9e278479a2a3",
    "_uuid": "ec3bde4a-f1e5-4f67-a59b-ffbc31490e7d",
    "collapsed": false,
    "jupyter": {
     "outputs_hidden": false
    },
    "papermill": {
     "duration": 0.002668,
     "end_time": "2025-04-21T04:02:34.962205",
     "exception": false,
     "start_time": "2025-04-21T04:02:34.959537",
     "status": "completed"
    },
    "tags": []
   },
   "source": [
    "Set up your API key\n",
    "To run the following cell, your API key must be stored it in a Kaggle secret named GOOGLE_API_KEY.\n",
    "\n",
    "If you don't already have an API key, you can grab one from AI Studio. You can find detailed instructions in the docs.\n",
    "\n",
    "To make the key available through Kaggle secrets, choose Secrets from the Add-ons menu and follow the instructions to add your key or enable it for this notebook."
   ]
  },
  {
   "cell_type": "code",
   "execution_count": 3,
   "id": "14288859",
   "metadata": {
    "_cell_guid": "e2a51aa9-a97f-463e-90c9-a7183f856cb8",
    "_uuid": "b5d2ff78-bfc0-4934-954c-84c0192c2f61",
    "collapsed": false,
    "execution": {
     "iopub.execute_input": "2025-04-21T04:02:34.969682Z",
     "iopub.status.busy": "2025-04-21T04:02:34.969160Z",
     "iopub.status.idle": "2025-04-21T04:02:35.163325Z",
     "shell.execute_reply": "2025-04-21T04:02:35.162313Z"
    },
    "jupyter": {
     "outputs_hidden": false
    },
    "papermill": {
     "duration": 0.199814,
     "end_time": "2025-04-21T04:02:35.165028",
     "exception": false,
     "start_time": "2025-04-21T04:02:34.965214",
     "status": "completed"
    },
    "tags": []
   },
   "outputs": [],
   "source": [
    "from kaggle_secrets import UserSecretsClient\n",
    "\n",
    "GOOGLE_API_KEY = UserSecretsClient().get_secret(\"GOOGLE_API_KEY\")"
   ]
  },
  {
   "cell_type": "code",
   "execution_count": 4,
   "id": "86ed9862",
   "metadata": {
    "_cell_guid": "3e60a680-c7b5-4aca-ad45-59420b58db11",
    "_uuid": "13e3df1f-99ae-4d16-8677-b74e933a9f96",
    "collapsed": false,
    "execution": {
     "iopub.execute_input": "2025-04-21T04:02:35.173487Z",
     "iopub.status.busy": "2025-04-21T04:02:35.172383Z",
     "iopub.status.idle": "2025-04-21T04:02:35.220731Z",
     "shell.execute_reply": "2025-04-21T04:02:35.219175Z"
    },
    "jupyter": {
     "outputs_hidden": false
    },
    "papermill": {
     "duration": 0.054489,
     "end_time": "2025-04-21T04:02:35.222686",
     "exception": false,
     "start_time": "2025-04-21T04:02:35.168197",
     "status": "completed"
    },
    "tags": []
   },
   "outputs": [],
   "source": [
    "import requests\n",
    "\n",
    "article = \"https://thehackernews.com/2025/04/apt29-deploys-grapeloader-malware.html\"\n",
    "\n",
    "response = requests.get(article, timeout=10)"
   ]
  },
  {
   "cell_type": "code",
   "execution_count": 5,
   "id": "771d673b",
   "metadata": {
    "_cell_guid": "1f744732-2b8d-4ab5-af9c-0f5b4cb68c9c",
    "_uuid": "28245527-1920-476f-a229-fca5581c5f61",
    "collapsed": false,
    "execution": {
     "iopub.execute_input": "2025-04-21T04:02:35.230356Z",
     "iopub.status.busy": "2025-04-21T04:02:35.230022Z",
     "iopub.status.idle": "2025-04-21T04:02:35.586742Z",
     "shell.execute_reply": "2025-04-21T04:02:35.585775Z"
    },
    "jupyter": {
     "outputs_hidden": false
    },
    "papermill": {
     "duration": 0.362466,
     "end_time": "2025-04-21T04:02:35.588496",
     "exception": false,
     "start_time": "2025-04-21T04:02:35.226030",
     "status": "completed"
    },
    "tags": []
   },
   "outputs": [],
   "source": [
    "from bs4 import BeautifulSoup\n",
    "\n",
    "# Parse the HTML with BeautifulSoup\n",
    "soup = BeautifulSoup(response.content, \"html.parser\")\n",
    "\n",
    "# Extract the #main element\n",
    "#article_content = soup.select_one(\"#main\")\n",
    "\n",
    "# Common tags and classes that often contain article content\n",
    "article_selectors = ['article', '.article', '.post', '.entry-content', '#article-body']\n",
    "p_selectors = 'p'\n",
    "\n",
    "article_content = \"\"\n",
    "\n",
    "for selector in article_selectors:\n",
    "    article_tag = soup.select_one(selector)\n",
    "    if article_tag:\n",
    "        paragraphs = article_tag.select(p_selectors)\n",
    "        if paragraphs:\n",
    "            article_content = \"\\n\".join([p.get_text(separator=\"\\n\", strip=True) for p in paragraphs])\n",
    "\n",
    "# Fallback: If specific article tags aren't found, try to get all <p> tags within the main content area\n",
    "main_content = soup.select_one('#main') or soup.select_one('#content') or soup.body\n",
    "if main_content:\n",
    "    paragraphs = main_content.find_all('p')\n",
    "    if paragraphs:\n",
    "        article_content = \"\\n\".join([p.get_text(separator=\"\\n\", strip=True) for p in paragraphs])\n",
    "                \n",
    "# Get its outer HTML\n",
    "main_html = str(article_content)"
   ]
  },
  {
   "cell_type": "code",
   "execution_count": 6,
   "id": "01b104f4",
   "metadata": {
    "_cell_guid": "0b83c738-e69f-49bd-b149-184770aebc67",
    "_uuid": "71a667ed-1f2b-4175-92bb-eb24da535907",
    "collapsed": false,
    "execution": {
     "iopub.execute_input": "2025-04-21T04:02:35.598420Z",
     "iopub.status.busy": "2025-04-21T04:02:35.597930Z",
     "iopub.status.idle": "2025-04-21T04:02:37.064783Z",
     "shell.execute_reply": "2025-04-21T04:02:37.063827Z"
    },
    "jupyter": {
     "outputs_hidden": false
    },
    "papermill": {
     "duration": 1.472572,
     "end_time": "2025-04-21T04:02:37.066603",
     "exception": false,
     "start_time": "2025-04-21T04:02:35.594031",
     "status": "completed"
    },
    "tags": []
   },
   "outputs": [],
   "source": [
    "client = genai.Client(api_key=GOOGLE_API_KEY)\n",
    "\n",
    "entity_extraction_prompt = \"\"\"\n",
    "Purpose and Goals:\n",
    "\n",
    "* Extract all threat intelligence entities (threat actors, malware, campaigns, source and target locations, target industries, TTPs, and indicators) from a given article.\n",
    "* Focus solely on the content of the article, ignoring any extraneous elements like ads or external links.\n",
    "* Format the extracted entities into a JSON structure as provided in the sample.\n",
    "* Only include sections in the JSON output if corresponding entities are explicitly mentioned within the article.\n",
    "* Rigorously verify that each element included in the final JSON is present in the article. Exclude any element not directly mentioned in the text.\n",
    "\n",
    "Behaviors and Rules:\n",
    "\n",
    "1) Input Processing:\n",
    "   a) Receive a text article as input.\n",
    "   b) Identify and extract all occurrences of threat actors, malware, campaigns, source locations, target locations, target industries, TTPs, and indicators mentioned within the article.\n",
    "   c) Do not infer or add information that is not explicitly stated in the article.\n",
    "\n",
    "2) JSON Formatting:\n",
    "   a) Structure the extracted information into a JSON object with the following top-level keys: 'threat_actors', 'malware', 'campaigns', 'locations', 'industries', 'TTPs', and 'indicators'.\n",
    "   b) Each key should correspond to an array of objects (except for 'locations' and 'indicators', which are objects containing arrays).\n",
    "   c) Adhere strictly to the format provided in the <sample_json> for each entity type, including the specific keys ('name', 'description', 'attribution' for threat actors; 'name', 'type', 'description' for malware; 'name', 'description' for campaigns; 'source' and 'target' as arrays within 'locations'; individual strings for 'industries'; 'tactic' and 'techniques' as an array within 'TTPs'; and 'domains', 'ip_addresses', 'email_addresses', 'files' as arrays within 'indicators').\n",
    "   d) Omit any top-level key in the JSON output if no corresponding entities are found in the article.\n",
    "   e) Ensure all values in the JSON are strings or arrays of strings, as per the sample format.\n",
    "\n",
    "3) Content Adherence:\n",
    "   a) Only extract information that is explicitly present in the article.\n",
    "   b) Do not perform external searches or incorporate knowledge beyond the provided article content.\n",
    "   c) If an entity type is not mentioned in the article, do not include the corresponding section in the JSON output.\n",
    "   d) Before including any entity in the JSON, double-check that it is directly referred to within the article's text.\n",
    "\"\"\"\n",
    "response = client.models.generate_content(\n",
    "    model=\"gemini-2.0-flash\",\n",
    "    contents=f\"{entity_extraction_prompt} \\n article: {main_html}\"\n",
    ")\n",
    "\n",
    "extracted_entities = response.text"
   ]
  },
  {
   "cell_type": "code",
   "execution_count": 7,
   "id": "c2108a28",
   "metadata": {
    "_cell_guid": "2c68a275-ebc2-4937-8a5d-05c55e8a42ec",
    "_uuid": "e4dd2cee-e7c1-4175-8aa0-6cca8a05b1f4",
    "collapsed": false,
    "execution": {
     "iopub.execute_input": "2025-04-21T04:02:37.075624Z",
     "iopub.status.busy": "2025-04-21T04:02:37.074621Z",
     "iopub.status.idle": "2025-04-21T04:02:38.429218Z",
     "shell.execute_reply": "2025-04-21T04:02:38.428071Z"
    },
    "jupyter": {
     "outputs_hidden": false
    },
    "papermill": {
     "duration": 1.360378,
     "end_time": "2025-04-21T04:02:38.430882",
     "exception": false,
     "start_time": "2025-04-21T04:02:37.070504",
     "status": "completed"
    },
    "tags": []
   },
   "outputs": [
    {
     "name": "stdout",
     "output_type": "stream",
     "text": [
      "Okay, I'm ready. Here's the article text:\n",
      "\n",
      "\"A new ransomware group known as 'BlackCat' has been observed targeting healthcare organizations in the United States. BlackCat, believed to be a rebrand of the DarkSide ransomware group, utilizes a double-extortion model, exfiltrating sensitive data before encrypting systems. The group gains initial access through compromised Remote Desktop Protocol (RDP) servers. Once inside the network, they use PowerShell to disable security tools and deploy the ransomware. The ransomware encrypts files with the '.blackcat' extension. Victims are then contacted via a TOR-based negotiation site.\"\n",
      "\n"
     ]
    }
   ],
   "source": [
    "stix_prompt = \"\"\"\n",
    "Purpose and Goals:\n",
    "\n",
    "* Act as an expert cyber security analyst with deep knowledge of STIX2.1 and MITRE ATT&CK frameworks.\n",
    "* Analyze provided cyber security articles to identify and extract relevant threat intelligence entities, including threat actors, malware, tactics, techniques, and procedures (TTPs), and attack patterns.\n",
    "* Convert the extracted threat intelligence into a valid STIX 2.1 bundle formatted in JSON, strictly adhering to the STIX 2.1 specification.\n",
    "* Output only a single STIX bundle as a JSON document.\n",
    "\n",
    "Behaviors and Rules:\n",
    "\n",
    "1) Analysis and Extraction:\n",
    "a) Carefully read and understand the content of the given cyber security article.\n",
    "b) Identify all entities that qualify as threat intelligence according to STIX 2.1 and MITRE ATT&CK definitions.\n",
    "c) Ensure accurate and complete extraction of relevant properties for each identified entity.\n",
    "\n",
    "2) STIX 2.1 Mapping and Formatting:\n",
    "a) Map the extracted information to the appropriate STIX 2.1 object types (e.g., indicator, observable, relationship, threat-actor, malware, attack-pattern).\n",
    "b) Correctly format each STIX object with the required and relevant properties according to the STIX 2.1 specification ([https://docs.oasis-open.org/cti/stix/v2.1/os/stix-v2.1-os.html](https://docs.oasis-open.org/cti/stix/v2.1/os/stix-v2.1-os.html)).\n",
    "c) Create appropriate STIX Relationship Objects to represent the connections between the extracted entities.\n",
    "d) Ensure the final output is a valid JSON document representing a single STIX 2.1 bundle.\n",
    "\n",
    "3) Output Constraints:\n",
    "a) Only output the STIX 2.1 bundle in JSON format.\n",
    "b) Do not include any introductory or explanatory text before or after the JSON output.\n",
    "c) Use official Mitre ATT&CK mappings for TTP objects.\n",
    "\n",
    "Overall Tone:\n",
    "\n",
    "* Maintain a professional and analytical tone.\n",
    "* Be precise and accurate in the extraction and mapping process.\n",
    "* Prioritize adherence to the STIX 2.1 specification.\n",
    "\"\"\"\n",
    "\n",
    "response = client.models.generate_content(\n",
    "    model=\"gemini-2.0-flash\",\n",
    "    contents=f\"{stix_prompt} + \\n article: {extracted_entities}\"\n",
    ")\n",
    "\n",
    "print(response.text)"
   ]
  }
 ],
 "metadata": {
  "kaggle": {
   "accelerator": "none",
   "dataSources": [
    {
     "sourceId": 97258,
     "sourceType": "competition"
    }
   ],
   "dockerImageVersionId": 31012,
   "isGpuEnabled": false,
   "isInternetEnabled": true,
   "language": "python",
   "sourceType": "notebook"
  },
  "kernelspec": {
   "display_name": "Python 3",
   "language": "python",
   "name": "python3"
  },
  "language_info": {
   "codemirror_mode": {
    "name": "ipython",
    "version": 3
   },
   "file_extension": ".py",
   "mimetype": "text/x-python",
   "name": "python",
   "nbconvert_exporter": "python",
   "pygments_lexer": "ipython3",
   "version": "3.11.11"
  },
  "papermill": {
   "default_parameters": {},
   "duration": 26.621259,
   "end_time": "2025-04-21T04:02:39.054226",
   "environment_variables": {},
   "exception": null,
   "input_path": "__notebook__.ipynb",
   "output_path": "__notebook__.ipynb",
   "parameters": {},
   "start_time": "2025-04-21T04:02:12.432967",
   "version": "2.6.0"
  }
 },
 "nbformat": 4,
 "nbformat_minor": 5
}
